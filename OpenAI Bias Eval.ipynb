{
 "cells": [
  {
   "cell_type": "code",
   "execution_count": null,
   "id": "0be48481",
   "metadata": {},
   "outputs": [],
   "source": [
    "# Add your own key\n",
    "# %env OPENAI_API_KEY="
   ]
  },
  {
   "cell_type": "code",
   "execution_count": null,
   "id": "ec98a9ec",
   "metadata": {},
   "outputs": [],
   "source": [
    "%env HF_DATASETS_CACHE=\"/data/users/sgarg6/hf_cache\""
   ]
  },
  {
   "cell_type": "code",
   "execution_count": null,
   "id": "df545436",
   "metadata": {},
   "outputs": [],
   "source": [
    "models = [\"text-davinci-001\", \"text-davinci-002\", \"text-davinci-003\"]"
   ]
  },
  {
   "cell_type": "markdown",
   "id": "8164c806",
   "metadata": {},
   "source": [
    "# SETUP Open AI model"
   ]
  },
  {
   "cell_type": "code",
   "execution_count": null,
   "id": "8f22af78",
   "metadata": {},
   "outputs": [],
   "source": [
    "from langchain import OpenAI\n",
    "openai = OpenAI(model_name=\"text-davinci-003\", temperature=0.7)"
   ]
  },
  {
   "cell_type": "code",
   "execution_count": null,
   "id": "9ca47a40",
   "metadata": {},
   "outputs": [],
   "source": [
    "from datasets import load_dataset"
   ]
  },
  {
   "cell_type": "markdown",
   "id": "1760d9b2",
   "metadata": {},
   "source": [
    "Load Dataset"
   ]
  },
  {
   "cell_type": "code",
   "execution_count": null,
   "id": "44951799",
   "metadata": {},
   "outputs": [],
   "source": [
    "bold = load_dataset(\"AlexaAI/bold\", split=\"train\")"
   ]
  },
  {
   "cell_type": "code",
   "execution_count": null,
   "id": "1c5b3d29",
   "metadata": {},
   "outputs": [],
   "source": [
    "race = bold.filter(lambda x: x[\"domain\"] == \"race\")"
   ]
  },
  {
   "cell_type": "code",
   "execution_count": null,
   "id": "218aaa60",
   "metadata": {},
   "outputs": [],
   "source": [
    "race = race.train_test_split(test_size = 0.06)"
   ]
  },
  {
   "cell_type": "code",
   "execution_count": null,
   "id": "856234d0",
   "metadata": {},
   "outputs": [],
   "source": [
    "race[\"test\"]"
   ]
  },
  {
   "cell_type": "code",
   "execution_count": null,
   "id": "a1c49127",
   "metadata": {},
   "outputs": [],
   "source": [
    "from collections import Counter\n",
    "\n",
    "words = race[\"test\"][\"category\"]\n",
    "\n",
    "print(Counter(words).keys()) # equals to list(set(words))\n",
    "Counter(words).values() # counts the elements' frequency"
   ]
  },
  {
   "cell_type": "code",
   "execution_count": null,
   "id": "de0a64d4",
   "metadata": {},
   "outputs": [],
   "source": [
    "race[\"test\"][\"prompts\"]"
   ]
  },
  {
   "cell_type": "code",
   "execution_count": null,
   "id": "49134d10",
   "metadata": {},
   "outputs": [],
   "source": [
    "def comp(x):\n",
    "    x[\"prompts\"] = x[\"prompts\"][0]\n",
    "    x[\"wikipedia\"] = x[\"wikipedia\"][0]\n",
    "    return x\n",
    "\n",
    "race[\"test\"] = race[\"test\"].map(comp)"
   ]
  },
  {
   "cell_type": "code",
   "execution_count": null,
   "id": "fa65c575",
   "metadata": {},
   "outputs": [],
   "source": [
    "race[\"test\"][:2]"
   ]
  },
  {
   "cell_type": "markdown",
   "id": "ac1ffa90",
   "metadata": {},
   "source": [
    "# Generate output for prompts from OpenAI model using LangChain"
   ]
  },
  {
   "cell_type": "code",
   "execution_count": null,
   "id": "83f2d7d9",
   "metadata": {},
   "outputs": [],
   "source": [
    "def compute_continuations(x):\n",
    "    x[\"continuations_002\"] = openai.generate([x[\"prompts\"]]).generations[0][0].text\n",
    "    print(x[\"continuations_002\"])\n",
    "    return x\n",
    "race[\"test\"] = race[\"test\"].map(compute_continuations)"
   ]
  },
  {
   "cell_type": "markdown",
   "id": "6f8c036a",
   "metadata": {},
   "source": [
    "# Compute Regard"
   ]
  },
  {
   "cell_type": "code",
   "execution_count": null,
   "id": "6a508066",
   "metadata": {},
   "outputs": [],
   "source": [
    "import evaluate \n",
    "regard = evaluate.load('regard', 'default')"
   ]
  },
  {
   "cell_type": "code",
   "execution_count": null,
   "id": "73e7d657",
   "metadata": {},
   "outputs": [],
   "source": [
    "regard.compute(data=race[\"test\"][f\"continuations\"][:1])"
   ]
  },
  {
   "cell_type": "code",
   "execution_count": null,
   "id": "8a8a9079",
   "metadata": {},
   "outputs": [],
   "source": [
    "import statistics\n",
    "def compute_regard_stats(x):\n",
    "    across_model_regard = []\n",
    "    for mod in [\"_001\", \"_002\", \"\"]:\n",
    "        sample_regard= regard.compute(data=[x[f\"continuations{mod}\"]])\n",
    "        across_model_regard.append(sample_regard[\"regard\"][0][0][\"score\"])\n",
    "    \n",
    "    if statistics.stdev(across_model_regard) > 0.2:\n",
    "        print(x)\n",
    "race[\"test\"].map(compute_regard_stats)"
   ]
  },
  {
   "cell_type": "code",
   "execution_count": null,
   "id": "193791e0",
   "metadata": {},
   "outputs": [],
   "source": [
    "def compute_regard(x):\n",
    "    for mod in [\"_001\", \"_002\", \"\"]:\n",
    "        x[f\"regard_{mod}\"] = regard.compute(data=[x[f\"continuations{mod}\"]])\n",
    "    return x\n",
    "race[\"test\"] = race[\"test\"].map(compute_regard)"
   ]
  },
  {
   "cell_type": "code",
   "execution_count": null,
   "id": "07196756",
   "metadata": {},
   "outputs": [],
   "source": [
    "race[\"test\"].to_csv(\"race_test_continuations_regard_score.tsv\", sep=\"\\t\")"
   ]
  },
  {
   "cell_type": "code",
   "execution_count": null,
   "id": "88ebb5b7",
   "metadata": {},
   "outputs": [],
   "source": [
    "race_reg_list = []\n",
    "for race_cat in set(race[\"test\"][\"category\"]):\n",
    "    race_regard=regard.compute(\n",
    "        data=race[\"test\"].filter(lambda x: x[\"category\"] == race_cat)[\"continuations_002\"],\n",
    "        aggregation=\"average\")\n",
    "    race_regard[\"average_regard\"][\"race\"] = race_cat\n",
    "    race_reg_list.append(race_regard[\"average_regard\"])\n",
    "    print(f\"Regard for {race_cat} is :{race_regard} \")"
   ]
  },
  {
   "cell_type": "code",
   "execution_count": null,
   "id": "cfea9aca",
   "metadata": {},
   "outputs": [],
   "source": [
    "import pandas as pd\n",
    "race_df = pd.DataFrame(race_reg_list)"
   ]
  },
  {
   "cell_type": "code",
   "execution_count": null,
   "id": "62a5686d",
   "metadata": {},
   "outputs": [],
   "source": [
    "ax = race_df.plot.bar(x='race', stacked=True, figsize=(10,6))\n",
    "ax.set_title('Regard for different races in text-davinci-002', fontsize=20)\n",
    "ax.set_ylim(0,1.5)\n",
    "ax.set_xticklabels(race_df['race'], rotation=0, fontsize=8)\n",
    "ax.get_figure().savefig ('race-regard-text-davinci-002')"
   ]
  },
  {
   "cell_type": "code",
   "execution_count": null,
   "id": "a7d93bfe",
   "metadata": {},
   "outputs": [],
   "source": [
    "race_df.head()"
   ]
  },
  {
   "cell_type": "code",
   "execution_count": null,
   "id": "2b3221e8",
   "metadata": {},
   "outputs": [],
   "source": [
    "def get_regard(data, race_1, race_2):\n",
    "    race_1_cont = race[\"test\"].filter(lambda x: x[\"category\"] == race_1)[\"continuations\"]\n",
    "    race_2_cont = race[\"test\"].filter(lambda x: x[\"category\"] == race_2)[\"continuations\"]\n",
    "    min_cont = min(len(race_1_cont), len(race_2_cont))\n",
    "    print(regard.compute(data=race_1_cont[:min_cont], references= race_2_cont[:min_cont], aggregation=\"average\"))"
   ]
  },
  {
   "cell_type": "code",
   "execution_count": null,
   "id": "08810270",
   "metadata": {},
   "outputs": [],
   "source": [
    "get_regard(race[\"test\"], 'African_Americans', \"European_Americans\")"
   ]
  },
  {
   "cell_type": "code",
   "execution_count": null,
   "id": "32028587",
   "metadata": {},
   "outputs": [],
   "source": [
    "regard.compute(data = male_continuations, references= female_continuations, aggregation = 'average')"
   ]
  }
 ],
 "metadata": {
  "kernelspec": {
   "display_name": "Python 3 (ipykernel)",
   "language": "python",
   "name": "python3"
  },
  "language_info": {
   "codemirror_mode": {
    "name": "ipython",
    "version": 3
   },
   "file_extension": ".py",
   "mimetype": "text/x-python",
   "name": "python",
   "nbconvert_exporter": "python",
   "pygments_lexer": "ipython3",
   "version": "3.10.6"
  }
 },
 "nbformat": 4,
 "nbformat_minor": 5
}
